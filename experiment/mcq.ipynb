{
 "cells": [
  {
   "cell_type": "code",
   "execution_count": 1,
   "metadata": {},
   "outputs": [],
   "source": [
    "import os\n",
    "import json\n",
    "import pandas as pd\n",
    "import traceback"
   ]
  },
  {
   "cell_type": "code",
   "execution_count": 2,
   "metadata": {},
   "outputs": [
    {
     "data": {
      "text/plain": [
       "True"
      ]
     },
     "execution_count": 2,
     "metadata": {},
     "output_type": "execute_result"
    }
   ],
   "source": [
    "from langchain_ai21 import ChatAI21\n",
    "from dotenv import load_dotenv\n",
    "load_dotenv()\n"
   ]
  },
  {
   "cell_type": "code",
   "execution_count": 3,
   "metadata": {},
   "outputs": [],
   "source": [
    "Key = os.getenv(\"AI21_API_KEY\")"
   ]
  },
  {
   "cell_type": "code",
   "execution_count": 4,
   "metadata": {},
   "outputs": [
    {
     "name": "stdout",
     "output_type": "stream",
     "text": [
      "Key:  jN8sn36jtKAbayRcW6EitKyVz3iZySui\n"
     ]
    }
   ],
   "source": [
    "print(\"Key: \", Key)"
   ]
  },
  {
   "cell_type": "code",
   "execution_count": 5,
   "metadata": {},
   "outputs": [],
   "source": [
    "llm = ChatAI21(api_key= Key, model = \"jamba-instruct-preview\",temperature=0.5,max_tokens=1024)"
   ]
  },
  {
   "cell_type": "code",
   "execution_count": 6,
   "metadata": {},
   "outputs": [],
   "source": [
    "from langchain.prompts import PromptTemplate\n",
    "from langchain.chains import LLMChain\n",
    "from langchain.chains import SequentialChain\n",
    "from langchain.callbacks import get_openai_callback"
   ]
  },
  {
   "cell_type": "code",
   "execution_count": 7,
   "metadata": {},
   "outputs": [],
   "source": [
    "RESPONSE_JSON = {\n",
    "    \"1\": {\n",
    "        \"mcq\": \"multiple choice question\",\n",
    "        \"options\": {\n",
    "            \"a\": \"choice here\",\n",
    "            \"b\": \"choice here\",\n",
    "            \"c\": \"choice here\",\n",
    "            \"d\": \"choice here\",\n",
    "        },\n",
    "        \"correct\": \"correct answer\",\n",
    "    },\n",
    "    \"2\": {\n",
    "        \"mcq\": \"multiple choice question\",\n",
    "        \"options\": {\n",
    "            \"a\": \"choice here\",\n",
    "            \"b\": \"choice here\",\n",
    "            \"c\": \"choice here\",\n",
    "            \"d\": \"choice here\",\n",
    "        },\n",
    "        \"correct\": \"correct answer\",\n",
    "    },\n",
    "    \"3\": {\n",
    "        \"mcq\": \"multiple choice question\",\n",
    "        \"options\": {\n",
    "            \"a\": \"choice here\",\n",
    "            \"b\": \"choice here\",\n",
    "            \"c\": \"choice here\",\n",
    "            \"d\": \"choice here\",\n",
    "        },\n",
    "        \"correct\": \"correct answer\",\n",
    "    },\n",
    "}"
   ]
  },
  {
   "cell_type": "code",
   "execution_count": 8,
   "metadata": {},
   "outputs": [],
   "source": [
    "TEMPLATE = \"\"\"\n",
    "Text:{text}\n",
    "You are an expert MCQ maker.Given the above text, it is your job to \\\n",
    "create a quiz of {number} multiple choice questions for {subject} students in {tone} tone.\n",
    "Make sure the questions are not repeated and check all the questions to be conforming the text as well. \n",
    "Make sure to format your response like RESPONSE_JSON below and use it as a guide. \\\n",
    "Ensure to make {number} MCQs.\n",
    "### RESPONSE_JSON\n",
    "{response_json}\n",
    "\"\"\""
   ]
  },
  {
   "cell_type": "code",
   "execution_count": 9,
   "metadata": {},
   "outputs": [],
   "source": [
    "quiz_generation_prompt = PromptTemplate(\n",
    "    input_variables=[\"text\",\"number\",\"subject\",\"tone\",\"response_json\"],\n",
    "    template=TEMPLATE\n",
    ")"
   ]
  },
  {
   "cell_type": "code",
   "execution_count": 10,
   "metadata": {},
   "outputs": [
    {
     "name": "stderr",
     "output_type": "stream",
     "text": [
      "d:\\GenAI Course\\env\\Lib\\site-packages\\langchain_core\\_api\\deprecation.py:139: LangChainDeprecationWarning: The class `LLMChain` was deprecated in LangChain 0.1.17 and will be removed in 1.0. Use RunnableSequence, e.g., `prompt | llm` instead.\n",
      "  warn_deprecated(\n"
     ]
    }
   ],
   "source": [
    "quiz_chain = LLMChain(llm = llm,prompt=quiz_generation_prompt, output_key=\"quiz\", verbose=True)"
   ]
  },
  {
   "cell_type": "code",
   "execution_count": 11,
   "metadata": {},
   "outputs": [],
   "source": [
    "TEMPLATE2 = \"\"\"\n",
    "you are an expert english grammarian and writer. Given a Multiple Choice Quiz for {subject} students. \\\n",
    "You need to evaluate the complexity of the question and give a completer analysis of the quiz. Only use at max 50 words for complexity.\n",
    "if the quiz is not at par with the cognitive and analytical abilities of the students, \\\n",
    "update the quiz questions which needs to be changed and change the tone such that it perfectly fits the students' level.\n",
    "Quiz_MCQ:\n",
    "{quiz}\n",
    "\n",
    "Check from an expert English writer of the above quiz:\n",
    "\"\"\""
   ]
  },
  {
   "cell_type": "code",
   "execution_count": 12,
   "metadata": {},
   "outputs": [],
   "source": [
    "quiz_evaluation_prompt = PromptTemplate(input_variables=[\"subject\",\"quiz\"], template=TEMPLATE2) "
   ]
  },
  {
   "cell_type": "code",
   "execution_count": 13,
   "metadata": {},
   "outputs": [],
   "source": [
    "review_chain = LLMChain(llm = llm,prompt=quiz_evaluation_prompt, output_key=\"review\", verbose=True)"
   ]
  },
  {
   "cell_type": "code",
   "execution_count": 14,
   "metadata": {},
   "outputs": [],
   "source": [
    "generate_evaluate_chain = SequentialChain(chains = [quiz_chain, review_chain], input_variables=[\"text\",\"number\",\"subject\",\"tone\",\"response_json\"],\n",
    "                                          output_variables=[\"quiz\",\"review\"], verbose=True)"
   ]
  },
  {
   "cell_type": "code",
   "execution_count": 15,
   "metadata": {},
   "outputs": [
    {
     "data": {
      "text/plain": [
       "'D:\\\\GenAI Course\\\\data.txt'"
      ]
     },
     "execution_count": 15,
     "metadata": {},
     "output_type": "execute_result"
    }
   ],
   "source": [
    "file_path = r\"D:\\GenAI Course\\data.txt\"\n",
    "file_path"
   ]
  },
  {
   "cell_type": "code",
   "execution_count": 16,
   "metadata": {},
   "outputs": [],
   "source": [
    "with open(file_path, 'r') as file:\n",
    "    text = file.read()"
   ]
  },
  {
   "cell_type": "code",
   "execution_count": 17,
   "metadata": {},
   "outputs": [
    {
     "name": "stdout",
     "output_type": "stream",
     "text": [
      "The Sun is a G-type main-sequence star that makes up about 99.86% of the mass of the Solar System.[27] It has an absolute magnitude of +4.83, estimated to be brighter than about 85% of the stars in the Milky Way, most of which are red dwarfs.[28][29] It is more massive than 95% of nearby stars within 7 pc. (~23lt yrs)[30] The Sun is a Population I, or heavy-element-rich,[b] star.[31] Its formation approximately 4.6 billion years ago may have been triggered by shockwaves from one or more nearby supernovae.[32][33] This is suggested by a high abundance of heavy elements in the Solar System, such as gold and uranium, relative to the abundances of these elements in so-called Population II, heavy-element-poor, stars. The heavy elements could most plausibly have been produced by endothermic nuclear reactions during a supernova, or by transmutation through neutron absorption within a massive second-generation star.[31]\n",
      "\n",
      "The Sun is by far the brightest object in the Earth's sky, with an apparent magnitude of −26.74.[34][35] This is about 13 billion times brighter than the next brightest star, Sirius, which has an apparent magnitude of −1.46.[36]\n",
      "\n",
      "One astronomical unit (about 150 million kilometres; 93 million miles) is defined as the mean distance between the centres of the Sun and the Earth. The instantaneous distance varies by about ± 2.5 million km or 1.55 million miles as Earth moves from perihelion on ~ January 3rd to aphelion on ~ July 4th.[37] At its average distance, light travels from the Sun's horizon to Earth's horizon in about 8 minutes and 20 seconds,[38] while light from the closest points of the Sun and Earth takes about two seconds less. The energy of this sunlight supports almost all life[c] on Earth by photosynthesis,[39] and drives Earth's climate and weather.[40]\n",
      "\n",
      "The Sun does not have a definite boundary, but its density decreases exponentially with increasing height above the photosphere.[41] For the purpose of measurement, the Sun's radius is considered to be the distance from its center to the edge of the photosphere, the apparent visible surface of the Sun.[42] By this measure, the Sun is a near-perfect sphere with an oblateness estimated at 9 millionths,[43][44][45] which means that its polar diameter differs from its equatorial diameter by only 10 kilometers (6.2 mi).[46] The tidal effect of the planets is weak and does not significantly affect the shape of the Sun.[47]\n",
      "\n",
      "Rotation\n",
      "Main article: Solar rotation\n",
      "The Sun rotates faster at its equator than at its poles. This differential rotation is caused by convective motion due to heat transport and the Coriolis force due to the Sun's rotation. In a frame of reference defined by the stars, the rotational period is approximately 25.6 days at the equator and 33.5 days at the poles. Viewed from Earth as it orbits the Sun, the apparent rotational period of the Sun at its equator is about 28 days.[48] Viewed from a vantage point above its north pole, the Sun rotates counterclockwise around its axis of spin.[d][49]\n",
      "\n",
      "A survey of solar analogs suggest the early Sun was rotating up to ten times faster than it does today. This would have made the surface much more active, with greater X-ray and UV emission. Sun spots would have covered 5–30% of the surface.[50] The rotation rate was gradually slowed by magnetic braking, as the Sun's magnetic field interacted with the outflowing solar wind.[51] A vestige of this rapid primordial rotation still survives at the Sun's core, which has been found to be rotating at a rate of once per week; four times the mean surface rotation rate.[52][53]\n",
      "\n",
      "Composition\n",
      "See also: Molecules in stars\n",
      "The Sun consists mainly of the elements hydrogen and helium. At this time in the Sun's life, they account for 74.9% and 23.8%, respectively, of the mass of the Sun in the photosphere.[54] All heavier elements, called metals in astronomy, account for less than 2% of the mass, with oxygen (roughly 1% of the Sun's mass), carbon (0.3%), neon (0.2%), and iron (0.2%) being the most abundant.[55]\n",
      "\n",
      "The Sun's original chemical composition was inherited from the interstellar medium out of which it formed. Originally it would have been about 71.1% hydrogen, 27.4% helium, and 1.5% heavier elements.[54] The hydrogen and most of the helium in the Sun would have been produced by Big Bang nucleosynthesis in the first 20 minutes of the universe, and the heavier elements were produced by previous generations of stars before the Sun was formed, and spread into the interstellar medium during the final stages of stellar life and by events such as supernovae.[56]\n",
      "\n",
      "Since the Sun formed, the main fusion process has involved fusing hydrogen into helium. Over the past 4.6 billion years, the amount of helium and its location within the Sun has gradually changed. The proportion of helium within the core has increased from about 24% to about 60% due to fusion, and some of the helium and heavy elements have settled from the photosphere toward the center of the Sun because of gravity. The proportions of heavier elements are unchanged. Heat is transferred outward from the Sun's core by radiation rather than by convection (see Radiative zone below), so the fusion products are not lifted outward by heat; they remain in the core,[57] and gradually an inner core of helium has begun to form that cannot be fused because presently the Sun's core is not hot or dense enough to fuse helium. In the current photosphere, the helium fraction is reduced, and the metallicity is only 84% of what it was in the protostellar phase (before nuclear fusion in the core started). In the future, helium will continue to accumulate in the core, and in about 5 billion years this gradual build-up will eventually cause the Sun to exit the main sequence and become a red giant.[58]\n",
      "\n",
      "The chemical composition of the photosphere is normally considered representative of the composition of the primordial Solar System.[59] Typically, the solar heavy-element abundances described above are measured both by using spectroscopy of the Sun's photosphere and by measuring abundances in meteorites that have never been heated to melting temperatures. These meteorites are thought to retain the composition of the protostellar Sun and are thus not affected by the settling of heavy elements. The two methods generally agree well.[60]\n"
     ]
    }
   ],
   "source": [
    "print(text)"
   ]
  },
  {
   "cell_type": "code",
   "execution_count": 18,
   "metadata": {},
   "outputs": [
    {
     "data": {
      "text/plain": [
       "'{\"1\": {\"mcq\": \"multiple choice question\", \"options\": {\"a\": \"choice here\", \"b\": \"choice here\", \"c\": \"choice here\", \"d\": \"choice here\"}, \"correct\": \"correct answer\"}, \"2\": {\"mcq\": \"multiple choice question\", \"options\": {\"a\": \"choice here\", \"b\": \"choice here\", \"c\": \"choice here\", \"d\": \"choice here\"}, \"correct\": \"correct answer\"}, \"3\": {\"mcq\": \"multiple choice question\", \"options\": {\"a\": \"choice here\", \"b\": \"choice here\", \"c\": \"choice here\", \"d\": \"choice here\"}, \"correct\": \"correct answer\"}}'"
      ]
     },
     "execution_count": 18,
     "metadata": {},
     "output_type": "execute_result"
    }
   ],
   "source": [
    "# Serialize the Python dictionary into a JSON formatted string\n",
    "json.dumps(RESPONSE_JSON)"
   ]
  },
  {
   "cell_type": "code",
   "execution_count": 19,
   "metadata": {},
   "outputs": [],
   "source": [
    "NUMBER = 5\n",
    "SUBJECT = \"Sun\"\n",
    "TONE = \"simple\""
   ]
  },
  {
   "cell_type": "code",
   "execution_count": 20,
   "metadata": {},
   "outputs": [],
   "source": [
    "# with get_openai_callback() as cb:\n",
    "#     response = generate_evaluate_chain(\n",
    "#         {\n",
    "#             \"text\": text,\n",
    "#             \"number\": NUMBER,\n",
    "#             \"subject\": SUBJECT,\n",
    "#             \"tone\": TONE,\n",
    "#             \"response_json\": json.dumps(RESPONSE_JSON),\n",
    "#         }\n",
    "#     )"
   ]
  },
  {
   "cell_type": "code",
   "execution_count": 20,
   "metadata": {},
   "outputs": [
    {
     "name": "stderr",
     "output_type": "stream",
     "text": [
      "d:\\GenAI Course\\env\\Lib\\site-packages\\langchain_core\\_api\\deprecation.py:139: LangChainDeprecationWarning: The method `Chain.__call__` was deprecated in langchain 0.1.0 and will be removed in 0.3.0. Use invoke instead.\n",
      "  warn_deprecated(\n"
     ]
    },
    {
     "name": "stdout",
     "output_type": "stream",
     "text": [
      "\n",
      "\n",
      "\u001b[1m> Entering new SequentialChain chain...\u001b[0m\n",
      "\n",
      "\n",
      "\u001b[1m> Entering new LLMChain chain...\u001b[0m\n",
      "Prompt after formatting:\n",
      "\u001b[32;1m\u001b[1;3m\n",
      "Text:The Sun is a G-type main-sequence star that makes up about 99.86% of the mass of the Solar System.[27] It has an absolute magnitude of +4.83, estimated to be brighter than about 85% of the stars in the Milky Way, most of which are red dwarfs.[28][29] It is more massive than 95% of nearby stars within 7 pc. (~23lt yrs)[30] The Sun is a Population I, or heavy-element-rich,[b] star.[31] Its formation approximately 4.6 billion years ago may have been triggered by shockwaves from one or more nearby supernovae.[32][33] This is suggested by a high abundance of heavy elements in the Solar System, such as gold and uranium, relative to the abundances of these elements in so-called Population II, heavy-element-poor, stars. The heavy elements could most plausibly have been produced by endothermic nuclear reactions during a supernova, or by transmutation through neutron absorption within a massive second-generation star.[31]\n",
      "\n",
      "The Sun is by far the brightest object in the Earth's sky, with an apparent magnitude of −26.74.[34][35] This is about 13 billion times brighter than the next brightest star, Sirius, which has an apparent magnitude of −1.46.[36]\n",
      "\n",
      "One astronomical unit (about 150 million kilometres; 93 million miles) is defined as the mean distance between the centres of the Sun and the Earth. The instantaneous distance varies by about ± 2.5 million km or 1.55 million miles as Earth moves from perihelion on ~ January 3rd to aphelion on ~ July 4th.[37] At its average distance, light travels from the Sun's horizon to Earth's horizon in about 8 minutes and 20 seconds,[38] while light from the closest points of the Sun and Earth takes about two seconds less. The energy of this sunlight supports almost all life[c] on Earth by photosynthesis,[39] and drives Earth's climate and weather.[40]\n",
      "\n",
      "The Sun does not have a definite boundary, but its density decreases exponentially with increasing height above the photosphere.[41] For the purpose of measurement, the Sun's radius is considered to be the distance from its center to the edge of the photosphere, the apparent visible surface of the Sun.[42] By this measure, the Sun is a near-perfect sphere with an oblateness estimated at 9 millionths,[43][44][45] which means that its polar diameter differs from its equatorial diameter by only 10 kilometers (6.2 mi).[46] The tidal effect of the planets is weak and does not significantly affect the shape of the Sun.[47]\n",
      "\n",
      "Rotation\n",
      "Main article: Solar rotation\n",
      "The Sun rotates faster at its equator than at its poles. This differential rotation is caused by convective motion due to heat transport and the Coriolis force due to the Sun's rotation. In a frame of reference defined by the stars, the rotational period is approximately 25.6 days at the equator and 33.5 days at the poles. Viewed from Earth as it orbits the Sun, the apparent rotational period of the Sun at its equator is about 28 days.[48] Viewed from a vantage point above its north pole, the Sun rotates counterclockwise around its axis of spin.[d][49]\n",
      "\n",
      "A survey of solar analogs suggest the early Sun was rotating up to ten times faster than it does today. This would have made the surface much more active, with greater X-ray and UV emission. Sun spots would have covered 5–30% of the surface.[50] The rotation rate was gradually slowed by magnetic braking, as the Sun's magnetic field interacted with the outflowing solar wind.[51] A vestige of this rapid primordial rotation still survives at the Sun's core, which has been found to be rotating at a rate of once per week; four times the mean surface rotation rate.[52][53]\n",
      "\n",
      "Composition\n",
      "See also: Molecules in stars\n",
      "The Sun consists mainly of the elements hydrogen and helium. At this time in the Sun's life, they account for 74.9% and 23.8%, respectively, of the mass of the Sun in the photosphere.[54] All heavier elements, called metals in astronomy, account for less than 2% of the mass, with oxygen (roughly 1% of the Sun's mass), carbon (0.3%), neon (0.2%), and iron (0.2%) being the most abundant.[55]\n",
      "\n",
      "The Sun's original chemical composition was inherited from the interstellar medium out of which it formed. Originally it would have been about 71.1% hydrogen, 27.4% helium, and 1.5% heavier elements.[54] The hydrogen and most of the helium in the Sun would have been produced by Big Bang nucleosynthesis in the first 20 minutes of the universe, and the heavier elements were produced by previous generations of stars before the Sun was formed, and spread into the interstellar medium during the final stages of stellar life and by events such as supernovae.[56]\n",
      "\n",
      "Since the Sun formed, the main fusion process has involved fusing hydrogen into helium. Over the past 4.6 billion years, the amount of helium and its location within the Sun has gradually changed. The proportion of helium within the core has increased from about 24% to about 60% due to fusion, and some of the helium and heavy elements have settled from the photosphere toward the center of the Sun because of gravity. The proportions of heavier elements are unchanged. Heat is transferred outward from the Sun's core by radiation rather than by convection (see Radiative zone below), so the fusion products are not lifted outward by heat; they remain in the core,[57] and gradually an inner core of helium has begun to form that cannot be fused because presently the Sun's core is not hot or dense enough to fuse helium. In the current photosphere, the helium fraction is reduced, and the metallicity is only 84% of what it was in the protostellar phase (before nuclear fusion in the core started). In the future, helium will continue to accumulate in the core, and in about 5 billion years this gradual build-up will eventually cause the Sun to exit the main sequence and become a red giant.[58]\n",
      "\n",
      "The chemical composition of the photosphere is normally considered representative of the composition of the primordial Solar System.[59] Typically, the solar heavy-element abundances described above are measured both by using spectroscopy of the Sun's photosphere and by measuring abundances in meteorites that have never been heated to melting temperatures. These meteorites are thought to retain the composition of the protostellar Sun and are thus not affected by the settling of heavy elements. The two methods generally agree well.[60]\n",
      "You are an expert MCQ maker.Given the above text, it is your job to create a quiz of 5 multiple choice questions for Sun students in simple tone.\n",
      "Make sure the questions are not repeated and check all the questions to be conforming the text as well. \n",
      "Make sure to format your response like RESPONSE_JSON below and use it as a guide. Ensure to make 5 MCQs.\n",
      "### RESPONSE_JSON\n",
      "{\"1\": {\"mcq\": \"multiple choice question\", \"options\": {\"a\": \"choice here\", \"b\": \"choice here\", \"c\": \"choice here\", \"d\": \"choice here\"}, \"correct\": \"correct answer\"}, \"2\": {\"mcq\": \"multiple choice question\", \"options\": {\"a\": \"choice here\", \"b\": \"choice here\", \"c\": \"choice here\", \"d\": \"choice here\"}, \"correct\": \"correct answer\"}, \"3\": {\"mcq\": \"multiple choice question\", \"options\": {\"a\": \"choice here\", \"b\": \"choice here\", \"c\": \"choice here\", \"d\": \"choice here\"}, \"correct\": \"correct answer\"}}\n",
      "\u001b[0m\n"
     ]
    },
    {
     "name": "stderr",
     "output_type": "stream",
     "text": [
      "HTTP Request: POST https://api.ai21.com/studio/v1/chat/completions \"HTTP/1.1 200 OK\"\n"
     ]
    },
    {
     "name": "stdout",
     "output_type": "stream",
     "text": [
      "\n",
      "\u001b[1m> Finished chain.\u001b[0m\n",
      "\n",
      "\n",
      "\u001b[1m> Entering new LLMChain chain...\u001b[0m\n",
      "Prompt after formatting:\n",
      "\u001b[32;1m\u001b[1;3m\n",
      "you are an expert english grammarian and writer. Given a Multiple Choice Quiz for Sun students. You need to evaluate the complexity of the question and give a completer analysis of the quiz. Only use at max 50 words for complexity.\n",
      "if the quiz is not at par with the cognitive and analytical abilities of the students, update the quiz questions which needs to be changed and change the tone such that it perfectly fits the students' level.\n",
      "Quiz_MCQ:\n",
      "{\n",
      "\"1\": {\n",
      "\"mcq\": \"What type of star is the Sun?\",\n",
      "\"options\": {\n",
      "\"a\": \"G-type main-sequence star\",\n",
      "\"b\": \"Red dwarf\",\n",
      "\"c\": \"Supernova\",\n",
      "\"d\": \"Population II star\"\n",
      "},\n",
      "\"correct\": \"a\"\n",
      "},\n",
      "\"2\": {\n",
      "\"mcq\": \"What is the approximate age of the Sun?\",\n",
      "\"options\": {\n",
      "\"a\": \"4.6 billion years\",\n",
      "\"b\": \"13 billion years\",\n",
      "\"c\": \"25.6 days\",\n",
      "\"d\": \"33.5 days\"\n",
      "},\n",
      "\"correct\": \"a\"\n",
      "},\n",
      "\"3\": {\n",
      "\"mcq\": \"What is the apparent magnitude of the Sun?\",\n",
      "\"options\": {\n",
      "\"a\": \"-26.74\",\n",
      "\"b\": \"-1.46\",\n",
      "\"c\": \"99.86%\",\n",
      "\"d\": \"95%\"\n",
      "},\n",
      "\"correct\": \"a\"\n",
      "},\n",
      "\"4\": {\n",
      "\"mcq\": \"What is the percentage of hydrogen in the Sun's original composition?\",\n",
      "\"options\": {\n",
      "\"a\": \"71.1%\",\n",
      "\"b\": \"27.4%\",\n",
      "\"c\": \"1.5%\",\n",
      "\"d\": \"99.86%\"\n",
      "},\n",
      "\"correct\": \"a\"\n",
      "},\n",
      "\"5\": {\n",
      "\"mcq\": \"What is the percentage of helium in the Sun's current photosphere?\",\n",
      "\"options\": {\n",
      "\"a\": \"23.8%\",\n",
      "\"b\": \"24%\",\n",
      "\"c\": \"60%\",\n",
      "\"d\": \"84%\"\n",
      "},\n",
      "\"correct\": \"a\"\n",
      "}\n",
      "\n",
      "Check from an expert English writer of the above quiz:\n",
      "\u001b[0m\n"
     ]
    },
    {
     "name": "stderr",
     "output_type": "stream",
     "text": [
      "HTTP Request: POST https://api.ai21.com/studio/v1/chat/completions \"HTTP/1.1 200 OK\"\n"
     ]
    },
    {
     "name": "stdout",
     "output_type": "stream",
     "text": [
      "\n",
      "\u001b[1m> Finished chain.\u001b[0m\n",
      "\n",
      "\u001b[1m> Finished chain.\u001b[0m\n",
      "Full API Response:\n",
      "{\n",
      "  \"text\": \"The Sun is a G-type main-sequence star that makes up about 99.86% of the mass of the Solar System.[27] It has an absolute magnitude of +4.83, estimated to be brighter than about 85% of the stars in the Milky Way, most of which are red dwarfs.[28][29] It is more massive than 95% of nearby stars within 7 pc. (~23lt yrs)[30] The Sun is a Population I, or heavy-element-rich,[b] star.[31] Its formation approximately 4.6 billion years ago may have been triggered by shockwaves from one or more nearby supernovae.[32][33] This is suggested by a high abundance of heavy elements in the Solar System, such as gold and uranium, relative to the abundances of these elements in so-called Population II, heavy-element-poor, stars. The heavy elements could most plausibly have been produced by endothermic nuclear reactions during a supernova, or by transmutation through neutron absorption within a massive second-generation star.[31]\\n\\nThe Sun is by far the brightest object in the Earth's sky, with an apparent magnitude of \\u221226.74.[34][35] This is about 13 billion times brighter than the next brightest star, Sirius, which has an apparent magnitude of \\u22121.46.[36]\\n\\nOne astronomical unit (about 150 million kilometres; 93 million miles) is defined as the mean distance between the centres of the Sun and the Earth. The instantaneous distance varies by about \\u00b1 2.5 million km or 1.55 million miles as Earth moves from perihelion on ~ January 3rd to aphelion on ~ July 4th.[37] At its average distance, light travels from the Sun's horizon to Earth's horizon in about 8 minutes and 20 seconds,[38] while light from the closest points of the Sun and Earth takes about two seconds less. The energy of this sunlight supports almost all life[c] on Earth by photosynthesis,[39] and drives Earth's climate and weather.[40]\\n\\nThe Sun does not have a definite boundary, but its density decreases exponentially with increasing height above the photosphere.[41] For the purpose of measurement, the Sun's radius is considered to be the distance from its center to the edge of the photosphere, the apparent visible surface of the Sun.[42] By this measure, the Sun is a near-perfect sphere with an oblateness estimated at 9 millionths,[43][44][45] which means that its polar diameter differs from its equatorial diameter by only 10 kilometers (6.2 mi).[46] The tidal effect of the planets is weak and does not significantly affect the shape of the Sun.[47]\\n\\nRotation\\nMain article: Solar rotation\\nThe Sun rotates faster at its equator than at its poles. This differential rotation is caused by convective motion due to heat transport and the Coriolis force due to the Sun's rotation. In a frame of reference defined by the stars, the rotational period is approximately 25.6 days at the equator and 33.5 days at the poles. Viewed from Earth as it orbits the Sun, the apparent rotational period of the Sun at its equator is about 28 days.[48] Viewed from a vantage point above its north pole, the Sun rotates counterclockwise around its axis of spin.[d][49]\\n\\nA survey of solar analogs suggest the early Sun was rotating up to ten times faster than it does today. This would have made the surface much more active, with greater X-ray and UV emission. Sun spots would have covered 5\\u201330% of the surface.[50] The rotation rate was gradually slowed by magnetic braking, as the Sun's magnetic field interacted with the outflowing solar wind.[51] A vestige of this rapid primordial rotation still survives at the Sun's core, which has been found to be rotating at a rate of once per week; four times the mean surface rotation rate.[52][53]\\n\\nComposition\\nSee also: Molecules in stars\\nThe Sun consists mainly of the elements hydrogen and helium. At this time in the Sun's life, they account for 74.9% and 23.8%, respectively, of the mass of the Sun in the photosphere.[54] All heavier elements, called metals in astronomy, account for less than 2% of the mass, with oxygen (roughly 1% of the Sun's mass), carbon (0.3%), neon (0.2%), and iron (0.2%) being the most abundant.[55]\\n\\nThe Sun's original chemical composition was inherited from the interstellar medium out of which it formed. Originally it would have been about 71.1% hydrogen, 27.4% helium, and 1.5% heavier elements.[54] The hydrogen and most of the helium in the Sun would have been produced by Big Bang nucleosynthesis in the first 20 minutes of the universe, and the heavier elements were produced by previous generations of stars before the Sun was formed, and spread into the interstellar medium during the final stages of stellar life and by events such as supernovae.[56]\\n\\nSince the Sun formed, the main fusion process has involved fusing hydrogen into helium. Over the past 4.6 billion years, the amount of helium and its location within the Sun has gradually changed. The proportion of helium within the core has increased from about 24% to about 60% due to fusion, and some of the helium and heavy elements have settled from the photosphere toward the center of the Sun because of gravity. The proportions of heavier elements are unchanged. Heat is transferred outward from the Sun's core by radiation rather than by convection (see Radiative zone below), so the fusion products are not lifted outward by heat; they remain in the core,[57] and gradually an inner core of helium has begun to form that cannot be fused because presently the Sun's core is not hot or dense enough to fuse helium. In the current photosphere, the helium fraction is reduced, and the metallicity is only 84% of what it was in the protostellar phase (before nuclear fusion in the core started). In the future, helium will continue to accumulate in the core, and in about 5 billion years this gradual build-up will eventually cause the Sun to exit the main sequence and become a red giant.[58]\\n\\nThe chemical composition of the photosphere is normally considered representative of the composition of the primordial Solar System.[59] Typically, the solar heavy-element abundances described above are measured both by using spectroscopy of the Sun's photosphere and by measuring abundances in meteorites that have never been heated to melting temperatures. These meteorites are thought to retain the composition of the protostellar Sun and are thus not affected by the settling of heavy elements. The two methods generally agree well.[60]\",\n",
      "  \"number\": 5,\n",
      "  \"subject\": \"Sun\",\n",
      "  \"tone\": \"simple\",\n",
      "  \"response_json\": \"{\\\"1\\\": {\\\"mcq\\\": \\\"multiple choice question\\\", \\\"options\\\": {\\\"a\\\": \\\"choice here\\\", \\\"b\\\": \\\"choice here\\\", \\\"c\\\": \\\"choice here\\\", \\\"d\\\": \\\"choice here\\\"}, \\\"correct\\\": \\\"correct answer\\\"}, \\\"2\\\": {\\\"mcq\\\": \\\"multiple choice question\\\", \\\"options\\\": {\\\"a\\\": \\\"choice here\\\", \\\"b\\\": \\\"choice here\\\", \\\"c\\\": \\\"choice here\\\", \\\"d\\\": \\\"choice here\\\"}, \\\"correct\\\": \\\"correct answer\\\"}, \\\"3\\\": {\\\"mcq\\\": \\\"multiple choice question\\\", \\\"options\\\": {\\\"a\\\": \\\"choice here\\\", \\\"b\\\": \\\"choice here\\\", \\\"c\\\": \\\"choice here\\\", \\\"d\\\": \\\"choice here\\\"}, \\\"correct\\\": \\\"correct answer\\\"}}\",\n",
      "  \"quiz\": \"{\\n\\\"1\\\": {\\n\\\"mcq\\\": \\\"What type of star is the Sun?\\\",\\n\\\"options\\\": {\\n\\\"a\\\": \\\"G-type main-sequence star\\\",\\n\\\"b\\\": \\\"Red dwarf\\\",\\n\\\"c\\\": \\\"Supernova\\\",\\n\\\"d\\\": \\\"Population II star\\\"\\n},\\n\\\"correct\\\": \\\"a\\\"\\n},\\n\\\"2\\\": {\\n\\\"mcq\\\": \\\"What is the approximate age of the Sun?\\\",\\n\\\"options\\\": {\\n\\\"a\\\": \\\"4.6 billion years\\\",\\n\\\"b\\\": \\\"13 billion years\\\",\\n\\\"c\\\": \\\"25.6 days\\\",\\n\\\"d\\\": \\\"33.5 days\\\"\\n},\\n\\\"correct\\\": \\\"a\\\"\\n},\\n\\\"3\\\": {\\n\\\"mcq\\\": \\\"What is the apparent magnitude of the Sun?\\\",\\n\\\"options\\\": {\\n\\\"a\\\": \\\"-26.74\\\",\\n\\\"b\\\": \\\"-1.46\\\",\\n\\\"c\\\": \\\"99.86%\\\",\\n\\\"d\\\": \\\"95%\\\"\\n},\\n\\\"correct\\\": \\\"a\\\"\\n},\\n\\\"4\\\": {\\n\\\"mcq\\\": \\\"What is the percentage of hydrogen in the Sun's original composition?\\\",\\n\\\"options\\\": {\\n\\\"a\\\": \\\"71.1%\\\",\\n\\\"b\\\": \\\"27.4%\\\",\\n\\\"c\\\": \\\"1.5%\\\",\\n\\\"d\\\": \\\"99.86%\\\"\\n},\\n\\\"correct\\\": \\\"a\\\"\\n},\\n\\\"5\\\": {\\n\\\"mcq\\\": \\\"What is the percentage of helium in the Sun's current photosphere?\\\",\\n\\\"options\\\": {\\n\\\"a\\\": \\\"23.8%\\\",\\n\\\"b\\\": \\\"24%\\\",\\n\\\"c\\\": \\\"60%\\\",\\n\\\"d\\\": \\\"84%\\\"\\n},\\n\\\"correct\\\": \\\"a\\\"\\n}\",\n",
      "  \"review\": \"The complexity of the quiz questions is appropriate for students who have a strong understanding of basic astronomy and are familiar with scientific terms and concepts. The questions are clear and straightforward, and the options provided are relevant and well-spaced.\\n\\nTo improve the quiz for younger or less advanced students, the language could be simplified and more visual aids could be included to help explain the concepts. Additionally, the questions could be made more specific and focused on key concepts, rather than asking for specific numerical values. For example, instead of asking for the exact percentage of hydrogen in the Sun's original composition, the question could ask students to identify which element is the most abundant in the Sun.\\n\\nOverall, the quiz is well-constructed and suitable for students with a good understanding of astronomy, but some adjustments could be made to make it more accessible to younger or less advanced students.\"\n",
      "}\n",
      "Failed to parse quiz as JSON. Raw quiz output:\n",
      "{\n",
      "\"1\": {\n",
      "\"mcq\": \"What type of star is the Sun?\",\n",
      "\"options\": {\n",
      "\"a\": \"G-type main-sequence star\",\n",
      "\"b\": \"Red dwarf\",\n",
      "\"c\": \"Supernova\",\n",
      "\"d\": \"Population II star\"\n",
      "},\n",
      "\"correct\": \"a\"\n",
      "},\n",
      "\"2\": {\n",
      "\"mcq\": \"What is the approximate age of the Sun?\",\n",
      "\"options\": {\n",
      "\"a\": \"4.6 billion years\",\n",
      "\"b\": \"13 billion years\",\n",
      "\"c\": \"25.6 days\",\n",
      "\"d\": \"33.5 days\"\n",
      "},\n",
      "\"correct\": \"a\"\n",
      "},\n",
      "\"3\": {\n",
      "\"mcq\": \"What is the apparent magnitude of the Sun?\",\n",
      "\"options\": {\n",
      "\"a\": \"-26.74\",\n",
      "\"b\": \"-1.46\",\n",
      "\"c\": \"99.86%\",\n",
      "\"d\": \"95%\"\n",
      "},\n",
      "\"correct\": \"a\"\n",
      "},\n",
      "\"4\": {\n",
      "\"mcq\": \"What is the percentage of hydrogen in the Sun's original composition?\",\n",
      "\"options\": {\n",
      "\"a\": \"71.1%\",\n",
      "\"b\": \"27.4%\",\n",
      "\"c\": \"1.5%\",\n",
      "\"d\": \"99.86%\"\n",
      "},\n",
      "\"correct\": \"a\"\n",
      "},\n",
      "\"5\": {\n",
      "\"mcq\": \"What is the percentage of helium in the Sun's current photosphere?\",\n",
      "\"options\": {\n",
      "\"a\": \"23.8%\",\n",
      "\"b\": \"24%\",\n",
      "\"c\": \"60%\",\n",
      "\"d\": \"84%\"\n",
      "},\n",
      "\"correct\": \"a\"\n",
      "}\n",
      "Failed to parse review as JSON. Raw review output:\n",
      "The complexity of the quiz questions is appropriate for students who have a strong understanding of basic astronomy and are familiar with scientific terms and concepts. The questions are clear and straightforward, and the options provided are relevant and well-spaced.\n",
      "\n",
      "To improve the quiz for younger or less advanced students, the language could be simplified and more visual aids could be included to help explain the concepts. Additionally, the questions could be made more specific and focused on key concepts, rather than asking for specific numerical values. For example, instead of asking for the exact percentage of hydrogen in the Sun's original composition, the question could ask students to identify which element is the most abundant in the Sun.\n",
      "\n",
      "Overall, the quiz is well-constructed and suitable for students with a good understanding of astronomy, but some adjustments could be made to make it more accessible to younger or less advanced students.\n"
     ]
    }
   ],
   "source": [
    "# Generate the response using AI21 model\n",
    "try:\n",
    "    response = generate_evaluate_chain(\n",
    "        {\n",
    "            \"text\": text,\n",
    "            \"number\": NUMBER,\n",
    "            \"subject\": SUBJECT,\n",
    "            \"tone\": TONE,\n",
    "            \"response_json\": json.dumps(RESPONSE_JSON),\n",
    "        }\n",
    "    )\n",
    "    \n",
    "    # Print the full response for debugging\n",
    "    print(\"Full API Response:\")\n",
    "    print(json.dumps(response, indent=2))\n",
    "    \n",
    "    # Try to parse the quiz and review\n",
    "    try:\n",
    "        quiz = json.loads(response[\"quiz\"])\n",
    "        print(\"Parsed Quiz:\")\n",
    "        print(json.dumps(quiz, indent=2))\n",
    "    except json.JSONDecodeError:\n",
    "        print(\"Failed to parse quiz as JSON. Raw quiz output:\")\n",
    "        print(response[\"quiz\"])\n",
    "    \n",
    "    try:\n",
    "        review = json.loads(response[\"review\"])\n",
    "        print(\"Parsed Review:\")\n",
    "        print(json.dumps(review, indent=2))\n",
    "    except json.JSONDecodeError:\n",
    "        print(\"Failed to parse review as JSON. Raw review output:\")\n",
    "        print(response[\"review\"])\n",
    "\n",
    "except Exception as e:\n",
    "    print(f\"An error occurred: {str(e)}\")\n",
    "    print(traceback.format_exc())"
   ]
  },
  {
   "cell_type": "code",
   "execution_count": 21,
   "metadata": {},
   "outputs": [
    {
     "data": {
      "text/plain": [
       "{'text': \"The Sun is a G-type main-sequence star that makes up about 99.86% of the mass of the Solar System.[27] It has an absolute magnitude of +4.83, estimated to be brighter than about 85% of the stars in the Milky Way, most of which are red dwarfs.[28][29] It is more massive than 95% of nearby stars within 7 pc. (~23lt yrs)[30] The Sun is a Population I, or heavy-element-rich,[b] star.[31] Its formation approximately 4.6 billion years ago may have been triggered by shockwaves from one or more nearby supernovae.[32][33] This is suggested by a high abundance of heavy elements in the Solar System, such as gold and uranium, relative to the abundances of these elements in so-called Population II, heavy-element-poor, stars. The heavy elements could most plausibly have been produced by endothermic nuclear reactions during a supernova, or by transmutation through neutron absorption within a massive second-generation star.[31]\\n\\nThe Sun is by far the brightest object in the Earth's sky, with an apparent magnitude of −26.74.[34][35] This is about 13 billion times brighter than the next brightest star, Sirius, which has an apparent magnitude of −1.46.[36]\\n\\nOne astronomical unit (about 150 million kilometres; 93 million miles) is defined as the mean distance between the centres of the Sun and the Earth. The instantaneous distance varies by about ± 2.5 million km or 1.55 million miles as Earth moves from perihelion on ~ January 3rd to aphelion on ~ July 4th.[37] At its average distance, light travels from the Sun's horizon to Earth's horizon in about 8 minutes and 20 seconds,[38] while light from the closest points of the Sun and Earth takes about two seconds less. The energy of this sunlight supports almost all life[c] on Earth by photosynthesis,[39] and drives Earth's climate and weather.[40]\\n\\nThe Sun does not have a definite boundary, but its density decreases exponentially with increasing height above the photosphere.[41] For the purpose of measurement, the Sun's radius is considered to be the distance from its center to the edge of the photosphere, the apparent visible surface of the Sun.[42] By this measure, the Sun is a near-perfect sphere with an oblateness estimated at 9 millionths,[43][44][45] which means that its polar diameter differs from its equatorial diameter by only 10 kilometers (6.2 mi).[46] The tidal effect of the planets is weak and does not significantly affect the shape of the Sun.[47]\\n\\nRotation\\nMain article: Solar rotation\\nThe Sun rotates faster at its equator than at its poles. This differential rotation is caused by convective motion due to heat transport and the Coriolis force due to the Sun's rotation. In a frame of reference defined by the stars, the rotational period is approximately 25.6 days at the equator and 33.5 days at the poles. Viewed from Earth as it orbits the Sun, the apparent rotational period of the Sun at its equator is about 28 days.[48] Viewed from a vantage point above its north pole, the Sun rotates counterclockwise around its axis of spin.[d][49]\\n\\nA survey of solar analogs suggest the early Sun was rotating up to ten times faster than it does today. This would have made the surface much more active, with greater X-ray and UV emission. Sun spots would have covered 5–30% of the surface.[50] The rotation rate was gradually slowed by magnetic braking, as the Sun's magnetic field interacted with the outflowing solar wind.[51] A vestige of this rapid primordial rotation still survives at the Sun's core, which has been found to be rotating at a rate of once per week; four times the mean surface rotation rate.[52][53]\\n\\nComposition\\nSee also: Molecules in stars\\nThe Sun consists mainly of the elements hydrogen and helium. At this time in the Sun's life, they account for 74.9% and 23.8%, respectively, of the mass of the Sun in the photosphere.[54] All heavier elements, called metals in astronomy, account for less than 2% of the mass, with oxygen (roughly 1% of the Sun's mass), carbon (0.3%), neon (0.2%), and iron (0.2%) being the most abundant.[55]\\n\\nThe Sun's original chemical composition was inherited from the interstellar medium out of which it formed. Originally it would have been about 71.1% hydrogen, 27.4% helium, and 1.5% heavier elements.[54] The hydrogen and most of the helium in the Sun would have been produced by Big Bang nucleosynthesis in the first 20 minutes of the universe, and the heavier elements were produced by previous generations of stars before the Sun was formed, and spread into the interstellar medium during the final stages of stellar life and by events such as supernovae.[56]\\n\\nSince the Sun formed, the main fusion process has involved fusing hydrogen into helium. Over the past 4.6 billion years, the amount of helium and its location within the Sun has gradually changed. The proportion of helium within the core has increased from about 24% to about 60% due to fusion, and some of the helium and heavy elements have settled from the photosphere toward the center of the Sun because of gravity. The proportions of heavier elements are unchanged. Heat is transferred outward from the Sun's core by radiation rather than by convection (see Radiative zone below), so the fusion products are not lifted outward by heat; they remain in the core,[57] and gradually an inner core of helium has begun to form that cannot be fused because presently the Sun's core is not hot or dense enough to fuse helium. In the current photosphere, the helium fraction is reduced, and the metallicity is only 84% of what it was in the protostellar phase (before nuclear fusion in the core started). In the future, helium will continue to accumulate in the core, and in about 5 billion years this gradual build-up will eventually cause the Sun to exit the main sequence and become a red giant.[58]\\n\\nThe chemical composition of the photosphere is normally considered representative of the composition of the primordial Solar System.[59] Typically, the solar heavy-element abundances described above are measured both by using spectroscopy of the Sun's photosphere and by measuring abundances in meteorites that have never been heated to melting temperatures. These meteorites are thought to retain the composition of the protostellar Sun and are thus not affected by the settling of heavy elements. The two methods generally agree well.[60]\",\n",
       " 'number': 5,\n",
       " 'subject': 'Sun',\n",
       " 'tone': 'simple',\n",
       " 'response_json': '{\"1\": {\"mcq\": \"multiple choice question\", \"options\": {\"a\": \"choice here\", \"b\": \"choice here\", \"c\": \"choice here\", \"d\": \"choice here\"}, \"correct\": \"correct answer\"}, \"2\": {\"mcq\": \"multiple choice question\", \"options\": {\"a\": \"choice here\", \"b\": \"choice here\", \"c\": \"choice here\", \"d\": \"choice here\"}, \"correct\": \"correct answer\"}, \"3\": {\"mcq\": \"multiple choice question\", \"options\": {\"a\": \"choice here\", \"b\": \"choice here\", \"c\": \"choice here\", \"d\": \"choice here\"}, \"correct\": \"correct answer\"}}',\n",
       " 'quiz': '{\\n\"1\": {\\n\"mcq\": \"What type of star is the Sun?\",\\n\"options\": {\\n\"a\": \"G-type main-sequence star\",\\n\"b\": \"Red dwarf\",\\n\"c\": \"Supernova\",\\n\"d\": \"Population II star\"\\n},\\n\"correct\": \"a\"\\n},\\n\"2\": {\\n\"mcq\": \"What is the approximate age of the Sun?\",\\n\"options\": {\\n\"a\": \"4.6 billion years\",\\n\"b\": \"13 billion years\",\\n\"c\": \"25.6 days\",\\n\"d\": \"33.5 days\"\\n},\\n\"correct\": \"a\"\\n},\\n\"3\": {\\n\"mcq\": \"What is the apparent magnitude of the Sun?\",\\n\"options\": {\\n\"a\": \"-26.74\",\\n\"b\": \"-1.46\",\\n\"c\": \"99.86%\",\\n\"d\": \"95%\"\\n},\\n\"correct\": \"a\"\\n},\\n\"4\": {\\n\"mcq\": \"What is the percentage of hydrogen in the Sun\\'s original composition?\",\\n\"options\": {\\n\"a\": \"71.1%\",\\n\"b\": \"27.4%\",\\n\"c\": \"1.5%\",\\n\"d\": \"99.86%\"\\n},\\n\"correct\": \"a\"\\n},\\n\"5\": {\\n\"mcq\": \"What is the percentage of helium in the Sun\\'s current photosphere?\",\\n\"options\": {\\n\"a\": \"23.8%\",\\n\"b\": \"24%\",\\n\"c\": \"60%\",\\n\"d\": \"84%\"\\n},\\n\"correct\": \"a\"\\n}',\n",
       " 'review': \"The complexity of the quiz questions is appropriate for students who have a strong understanding of basic astronomy and are familiar with scientific terms and concepts. The questions are clear and straightforward, and the options provided are relevant and well-spaced.\\n\\nTo improve the quiz for younger or less advanced students, the language could be simplified and more visual aids could be included to help explain the concepts. Additionally, the questions could be made more specific and focused on key concepts, rather than asking for specific numerical values. For example, instead of asking for the exact percentage of hydrogen in the Sun's original composition, the question could ask students to identify which element is the most abundant in the Sun.\\n\\nOverall, the quiz is well-constructed and suitable for students with a good understanding of astronomy, but some adjustments could be made to make it more accessible to younger or less advanced students.\"}"
      ]
     },
     "execution_count": 21,
     "metadata": {},
     "output_type": "execute_result"
    }
   ],
   "source": [
    "response"
   ]
  },
  {
   "cell_type": "code",
   "execution_count": 22,
   "metadata": {},
   "outputs": [
    {
     "data": {
      "text/plain": [
       "'{\\n\"1\": {\\n\"mcq\": \"What type of star is the Sun?\",\\n\"options\": {\\n\"a\": \"G-type main-sequence star\",\\n\"b\": \"Red dwarf\",\\n\"c\": \"Supernova\",\\n\"d\": \"Population II star\"\\n},\\n\"correct\": \"a\"\\n},\\n\"2\": {\\n\"mcq\": \"What is the approximate age of the Sun?\",\\n\"options\": {\\n\"a\": \"4.6 billion years\",\\n\"b\": \"13 billion years\",\\n\"c\": \"25.6 days\",\\n\"d\": \"33.5 days\"\\n},\\n\"correct\": \"a\"\\n},\\n\"3\": {\\n\"mcq\": \"What is the apparent magnitude of the Sun?\",\\n\"options\": {\\n\"a\": \"-26.74\",\\n\"b\": \"-1.46\",\\n\"c\": \"99.86%\",\\n\"d\": \"95%\"\\n},\\n\"correct\": \"a\"\\n},\\n\"4\": {\\n\"mcq\": \"What is the percentage of hydrogen in the Sun\\'s original composition?\",\\n\"options\": {\\n\"a\": \"71.1%\",\\n\"b\": \"27.4%\",\\n\"c\": \"1.5%\",\\n\"d\": \"99.86%\"\\n},\\n\"correct\": \"a\"\\n},\\n\"5\": {\\n\"mcq\": \"What is the percentage of helium in the Sun\\'s current photosphere?\",\\n\"options\": {\\n\"a\": \"23.8%\",\\n\"b\": \"24%\",\\n\"c\": \"60%\",\\n\"d\": \"84%\"\\n},\\n\"correct\": \"a\"\\n}'"
      ]
     },
     "execution_count": 22,
     "metadata": {},
     "output_type": "execute_result"
    }
   ],
   "source": [
    "quiz=response.get(\"quiz\")\n",
    "quiz"
   ]
  },
  {
   "cell_type": "code",
   "execution_count": 23,
   "metadata": {},
   "outputs": [
    {
     "ename": "JSONDecodeError",
     "evalue": "Expecting ',' delimiter: line 51 column 2 (char 846)",
     "output_type": "error",
     "traceback": [
      "\u001b[1;31m---------------------------------------------------------------------------\u001b[0m",
      "\u001b[1;31mJSONDecodeError\u001b[0m                           Traceback (most recent call last)",
      "Cell \u001b[1;32mIn[23], line 1\u001b[0m\n\u001b[1;32m----> 1\u001b[0m quiz\u001b[38;5;241m=\u001b[39m\u001b[43mjson\u001b[49m\u001b[38;5;241;43m.\u001b[39;49m\u001b[43mloads\u001b[49m\u001b[43m(\u001b[49m\u001b[43mquiz\u001b[49m\u001b[43m)\u001b[49m\n",
      "File \u001b[1;32md:\\GenAI Course\\env\\Lib\\json\\__init__.py:346\u001b[0m, in \u001b[0;36mloads\u001b[1;34m(s, cls, object_hook, parse_float, parse_int, parse_constant, object_pairs_hook, **kw)\u001b[0m\n\u001b[0;32m    341\u001b[0m     s \u001b[38;5;241m=\u001b[39m s\u001b[38;5;241m.\u001b[39mdecode(detect_encoding(s), \u001b[38;5;124m'\u001b[39m\u001b[38;5;124msurrogatepass\u001b[39m\u001b[38;5;124m'\u001b[39m)\n\u001b[0;32m    343\u001b[0m \u001b[38;5;28;01mif\u001b[39;00m (\u001b[38;5;28mcls\u001b[39m \u001b[38;5;129;01mis\u001b[39;00m \u001b[38;5;28;01mNone\u001b[39;00m \u001b[38;5;129;01mand\u001b[39;00m object_hook \u001b[38;5;129;01mis\u001b[39;00m \u001b[38;5;28;01mNone\u001b[39;00m \u001b[38;5;129;01mand\u001b[39;00m\n\u001b[0;32m    344\u001b[0m         parse_int \u001b[38;5;129;01mis\u001b[39;00m \u001b[38;5;28;01mNone\u001b[39;00m \u001b[38;5;129;01mand\u001b[39;00m parse_float \u001b[38;5;129;01mis\u001b[39;00m \u001b[38;5;28;01mNone\u001b[39;00m \u001b[38;5;129;01mand\u001b[39;00m\n\u001b[0;32m    345\u001b[0m         parse_constant \u001b[38;5;129;01mis\u001b[39;00m \u001b[38;5;28;01mNone\u001b[39;00m \u001b[38;5;129;01mand\u001b[39;00m object_pairs_hook \u001b[38;5;129;01mis\u001b[39;00m \u001b[38;5;28;01mNone\u001b[39;00m \u001b[38;5;129;01mand\u001b[39;00m \u001b[38;5;129;01mnot\u001b[39;00m kw):\n\u001b[1;32m--> 346\u001b[0m     \u001b[38;5;28;01mreturn\u001b[39;00m \u001b[43m_default_decoder\u001b[49m\u001b[38;5;241;43m.\u001b[39;49m\u001b[43mdecode\u001b[49m\u001b[43m(\u001b[49m\u001b[43ms\u001b[49m\u001b[43m)\u001b[49m\n\u001b[0;32m    347\u001b[0m \u001b[38;5;28;01mif\u001b[39;00m \u001b[38;5;28mcls\u001b[39m \u001b[38;5;129;01mis\u001b[39;00m \u001b[38;5;28;01mNone\u001b[39;00m:\n\u001b[0;32m    348\u001b[0m     \u001b[38;5;28mcls\u001b[39m \u001b[38;5;241m=\u001b[39m JSONDecoder\n",
      "File \u001b[1;32md:\\GenAI Course\\env\\Lib\\json\\decoder.py:337\u001b[0m, in \u001b[0;36mJSONDecoder.decode\u001b[1;34m(self, s, _w)\u001b[0m\n\u001b[0;32m    332\u001b[0m \u001b[38;5;28;01mdef\u001b[39;00m \u001b[38;5;21mdecode\u001b[39m(\u001b[38;5;28mself\u001b[39m, s, _w\u001b[38;5;241m=\u001b[39mWHITESPACE\u001b[38;5;241m.\u001b[39mmatch):\n\u001b[0;32m    333\u001b[0m \u001b[38;5;250m    \u001b[39m\u001b[38;5;124;03m\"\"\"Return the Python representation of ``s`` (a ``str`` instance\u001b[39;00m\n\u001b[0;32m    334\u001b[0m \u001b[38;5;124;03m    containing a JSON document).\u001b[39;00m\n\u001b[0;32m    335\u001b[0m \n\u001b[0;32m    336\u001b[0m \u001b[38;5;124;03m    \"\"\"\u001b[39;00m\n\u001b[1;32m--> 337\u001b[0m     obj, end \u001b[38;5;241m=\u001b[39m \u001b[38;5;28;43mself\u001b[39;49m\u001b[38;5;241;43m.\u001b[39;49m\u001b[43mraw_decode\u001b[49m\u001b[43m(\u001b[49m\u001b[43ms\u001b[49m\u001b[43m,\u001b[49m\u001b[43m \u001b[49m\u001b[43midx\u001b[49m\u001b[38;5;241;43m=\u001b[39;49m\u001b[43m_w\u001b[49m\u001b[43m(\u001b[49m\u001b[43ms\u001b[49m\u001b[43m,\u001b[49m\u001b[43m \u001b[49m\u001b[38;5;241;43m0\u001b[39;49m\u001b[43m)\u001b[49m\u001b[38;5;241;43m.\u001b[39;49m\u001b[43mend\u001b[49m\u001b[43m(\u001b[49m\u001b[43m)\u001b[49m\u001b[43m)\u001b[49m\n\u001b[0;32m    338\u001b[0m     end \u001b[38;5;241m=\u001b[39m _w(s, end)\u001b[38;5;241m.\u001b[39mend()\n\u001b[0;32m    339\u001b[0m     \u001b[38;5;28;01mif\u001b[39;00m end \u001b[38;5;241m!=\u001b[39m \u001b[38;5;28mlen\u001b[39m(s):\n",
      "File \u001b[1;32md:\\GenAI Course\\env\\Lib\\json\\decoder.py:353\u001b[0m, in \u001b[0;36mJSONDecoder.raw_decode\u001b[1;34m(self, s, idx)\u001b[0m\n\u001b[0;32m    344\u001b[0m \u001b[38;5;250m\u001b[39m\u001b[38;5;124;03m\"\"\"Decode a JSON document from ``s`` (a ``str`` beginning with\u001b[39;00m\n\u001b[0;32m    345\u001b[0m \u001b[38;5;124;03ma JSON document) and return a 2-tuple of the Python\u001b[39;00m\n\u001b[0;32m    346\u001b[0m \u001b[38;5;124;03mrepresentation and the index in ``s`` where the document ended.\u001b[39;00m\n\u001b[1;32m   (...)\u001b[0m\n\u001b[0;32m    350\u001b[0m \n\u001b[0;32m    351\u001b[0m \u001b[38;5;124;03m\"\"\"\u001b[39;00m\n\u001b[0;32m    352\u001b[0m \u001b[38;5;28;01mtry\u001b[39;00m:\n\u001b[1;32m--> 353\u001b[0m     obj, end \u001b[38;5;241m=\u001b[39m \u001b[38;5;28;43mself\u001b[39;49m\u001b[38;5;241;43m.\u001b[39;49m\u001b[43mscan_once\u001b[49m\u001b[43m(\u001b[49m\u001b[43ms\u001b[49m\u001b[43m,\u001b[49m\u001b[43m \u001b[49m\u001b[43midx\u001b[49m\u001b[43m)\u001b[49m\n\u001b[0;32m    354\u001b[0m \u001b[38;5;28;01mexcept\u001b[39;00m \u001b[38;5;167;01mStopIteration\u001b[39;00m \u001b[38;5;28;01mas\u001b[39;00m err:\n\u001b[0;32m    355\u001b[0m     \u001b[38;5;28;01mraise\u001b[39;00m JSONDecodeError(\u001b[38;5;124m\"\u001b[39m\u001b[38;5;124mExpecting value\u001b[39m\u001b[38;5;124m\"\u001b[39m, s, err\u001b[38;5;241m.\u001b[39mvalue) \u001b[38;5;28;01mfrom\u001b[39;00m \u001b[38;5;28;01mNone\u001b[39;00m\n",
      "\u001b[1;31mJSONDecodeError\u001b[0m: Expecting ',' delimiter: line 51 column 2 (char 846)"
     ]
    }
   ],
   "source": [
    "quiz=json.loads(quiz)"
   ]
  },
  {
   "cell_type": "code",
   "execution_count": 24,
   "metadata": {},
   "outputs": [
    {
     "name": "stdout",
     "output_type": "stream",
     "text": [
      "JSON successfully parsed!\n",
      "{\n",
      "  \"quiz_1\": {\n",
      "    \"a\": \"G-type main-sequence star\",\n",
      "    \"b\": \"Red dwarf\",\n",
      "    \"c\": \"White dwarf\",\n",
      "    \"d\": \"Neutron star\"\n",
      "  },\n",
      "  \"quiz_2\": {\n",
      "    \"a\": \"It rotates faster now\",\n",
      "    \"b\": \"It rotates slower now\",\n",
      "    \"c\": \"Its rotation rate remains the same\",\n",
      "    \"d\": \"It's difficult to determine.\"\n",
      "  },\n",
      "  \"quiz_3\": {\n",
      "    \"a\": \"8 minutes and 20 seconds\",\n",
      "    \"b\": \"2 seconds less\",\n",
      "    \"c\": \"13 billion times faster\",\n",
      "    \"d\": \"It's difficult to determine.\"\n",
      "  },\n",
      "  \"quiz_4\": {\n",
      "    \"a\": \"Fusing hydrogen into helium\",\n",
      "    \"b\": \"Fusing helium into heavier elements\",\n",
      "    \"c\": \"Fusing hydrogen into heavier elements\",\n",
      "    \"d\": \"Fusing helium into hydrogen.\"\n",
      "  },\n",
      "  \"quiz_5\": {\n",
      "    \"a\": \"10 kilometers\",\n",
      "    \"b\": \"9 millionths\",\n",
      "    \"c\": \"It's difficult to determine.\",\n",
      "    \"d\": \"13 billion times brighter.\"\n",
      "  }\n",
      "}\n"
     ]
    }
   ],
   "source": [
    "import json\n",
    "import re\n",
    "\n",
    "def preprocess_json(s):\n",
    "    # Split the string into individual JSON objects\n",
    "    json_objects = re.findall(r'\\{[^{}]+\\}', s)\n",
    "    \n",
    "    # Combine the objects into a single JSON object\n",
    "    combined_json = '{' + ','.join(f'\"quiz_{i+1}\": {obj.strip()}' for i, obj in enumerate(json_objects)) + '}'\n",
    "    \n",
    "    return combined_json\n",
    "\n",
    "# Preprocess and parse the JSON\n",
    "try:\n",
    "    cleaned_quiz = preprocess_json(quiz)\n",
    "    quiz_data = json.loads(cleaned_quiz)\n",
    "    print(\"JSON successfully parsed!\")\n",
    "    print(json.dumps(quiz_data, indent=2))  # Pretty print the parsed JSON\n",
    "    \n",
    "    # # Save to a file\n",
    "    # with open('quiz.json', 'w') as f:\n",
    "    #     json.dump(quiz_data, f, indent=2)\n",
    "    # print(\"JSON saved to 'quiz.json'\")\n",
    "except json.JSONDecodeError as e:\n",
    "    print(f\"Error parsing JSON: {e}\")\n",
    "    print(\"\\nCleaned JSON string:\")\n",
    "    print(cleaned_quiz)\n",
    "    \n",
    "    print(\"\\nAttempting to identify the problematic part:\")\n",
    "    lines = cleaned_quiz.split('\\n')\n",
    "    for i, line in enumerate(lines, 1):\n",
    "        try:\n",
    "            json.loads('{' + line + '}')\n",
    "        except json.JSONDecodeError as e:\n",
    "            print(f\"Error in line {i}: {line.strip()}\")\n",
    "            print(f\"Error message: {e}\")\n",
    "            break"
   ]
  },
  {
   "cell_type": "markdown",
   "metadata": {},
   "source": []
  },
  {
   "cell_type": "markdown",
   "metadata": {},
   "source": []
  },
  {
   "cell_type": "code",
   "execution_count": null,
   "metadata": {},
   "outputs": [],
   "source": []
  }
 ],
 "metadata": {
  "kernelspec": {
   "display_name": "Python 3",
   "language": "python",
   "name": "python3"
  },
  "language_info": {
   "codemirror_mode": {
    "name": "ipython",
    "version": 3
   },
   "file_extension": ".py",
   "mimetype": "text/x-python",
   "name": "python",
   "nbconvert_exporter": "python",
   "pygments_lexer": "ipython3",
   "version": "3.12.4"
  }
 },
 "nbformat": 4,
 "nbformat_minor": 2
}
